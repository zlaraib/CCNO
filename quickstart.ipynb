{
 "cells": [
  {
   "cell_type": "markdown",
   "id": "51cf3448",
   "metadata": {},
   "source": [
    "# General Setup #\n",
    "First, we are going to load the libraries necessary to run the calculations."
   ]
  },
  {
   "cell_type": "code",
   "execution_count": null,
   "id": "70753b33",
   "metadata": {},
   "outputs": [],
   "source": [
    "using CCNO\n",
    "\n",
    "using ITensors\n",
    "using ITensorMPS\n",
    "using Plots\n",
    "using Measures\n",
    "using LinearAlgebra\n",
    "using DelimitedFiles\n",
    "using Statistics\n",
    "using Random\n",
    "using HDF5"
   ]
  },
  {
   "cell_type": "markdown",
   "id": "cf5e262d",
   "metadata": {},
   "source": [
    "Then we are going to define all of the parameters that describe the calculation. These all go into a single data object so the parameters can be passed around easily."
   ]
  },
  {
   "cell_type": "code",
   "execution_count": null,
   "id": "57624edd",
   "metadata": {},
   "outputs": [],
   "source": [
    "N_sites_eachflavor= 5 # total sites/particles that evenly spaced \"for each (electron) flavor\" \n",
    "L = 1.0 # cm # domain size # (aka big box length)\n",
    "Δx = L/N_sites_eachflavor # length of the box of interacting neutrinos at a site in cm  #variable\n",
    "\n",
    "params = CCNO.Parameters(\n",
    "    N_sites = 2* (N_sites_eachflavor),\n",
    "    τ = 5E-13,\n",
    "    ttotal = 9.0E-11, \n",
    "    tolerance  = 5E-1,\n",
    "    m1 = 0.0,\n",
    "    m2 = 0.0,\n",
    "    maxdim = 1,\n",
    "    cutoff = 1e-100,\n",
    "    theta_nu = 1.74532925E-8,\n",
    "    shape_name = \"triangular\",\n",
    "    geometric_name = \"physical\",\n",
    "    Δx = Δx,\n",
    "    L = L,\n",
    "    Δp = Δx,\n",
    "    periodic = true,\n",
    "    checkpoint_every = 20,\n",
    "    do_recover = false,\n",
    "    recover_file = \"\",\n",
    "    plotdir = joinpath(@__DIR__, \"plots\"),\n",
    "    datadir = joinpath(@__DIR__,\"datafiles\"),\n",
    "    chkptdir = joinpath(@__DIR__, \"checkpoints\"),\n",
    "    save_plots_flag = false,\n",
    "    α = 1e-6\n",
    ")"
   ]
  },
  {
   "cell_type": "markdown",
   "id": "64276ae7",
   "metadata": {},
   "source": [
    "# Initial Conditions #\n",
    "First, we are going to define the physical neutrino densities and energies. These are used to define a list of values of N, which describes the number of physical neutrinos each site represents."
   ]
  },
  {
   "cell_type": "code",
   "execution_count": null,
   "id": "25ca4f6a",
   "metadata": {},
   "outputs": [],
   "source": [
    "Δm² = (params.m2^2-params.m1^2) # mass square difference # (erg^2)\n",
    "n_νₑ =  4.891290848285061e+32 # cm^-3 # number density of electron flavor neutrino\n",
    "n_νₑ̄ =  n_νₑ # cm^-3 # number density of electron flavor antineutrino\n",
    "Eνₑ =  50.0*CCNO.MeV # energy of all neutrinos (P.S the its negative is energy of all antineutrinos)\n",
    "Eνₑ̄ = -1 * Eνₑ # specific to my case only. Since all neutrinos have same energy, except in my case anti neutrinos are moving in opposite direction to give it a negative sign\n",
    "\n",
    "N = CCNO.Neutrino_number(params, n_νₑ,n_νₑ̄)"
   ]
  },
  {
   "cell_type": "markdown",
   "id": "9ae2e960",
   "metadata": {},
   "source": [
    "Then we set the initial positions of each particle. CCNO is not currently written for more than 1D, so the y and z positions can be ignored. The first half of the particles are distributed through the domain. The second half are also distributed, initially at the same positions as the first half, though this will change as the particles evolve."
   ]
  },
  {
   "cell_type": "code",
   "execution_count": null,
   "id": "32afef01",
   "metadata": {},
   "outputs": [],
   "source": [
    "x = CCNO.generate_x_array(N_sites_eachflavor, L)\n",
    "y = CCNO.generate_x_array(N_sites_eachflavor, L)\n",
    "z = CCNO.generate_x_array(N_sites_eachflavor, L)"
   ]
  },
  {
   "cell_type": "markdown",
   "id": "00480c18",
   "metadata": {},
   "source": [
    "Set the momenta of the particles. The first half of the particles have a positive x momentum and the second half have a negative x momentum."
   ]
  },
  {
   "cell_type": "code",
   "execution_count": null,
   "id": "86232801",
   "metadata": {},
   "outputs": [],
   "source": [
    "p = hcat(CCNO.generate_px_array(params.N_sites, Eνₑ, Eνₑ̄), CCNO.generate_py_array(params.N_sites), CCNO.generate_pz_array(params.N_sites))"
   ]
  },
  {
   "cell_type": "markdown",
   "id": "2fa3e67b",
   "metadata": {},
   "source": [
    "Setting the \"energy sign\", which is a tool to be able to replicate some tests in the literature. Since we are not using that tool, we just set all values to 1."
   ]
  },
  {
   "cell_type": "code",
   "execution_count": null,
   "id": "28438149",
   "metadata": {},
   "outputs": [],
   "source": [
    "energy_sign = [1 for i in 1:params.N_sites]"
   ]
  },
  {
   "cell_type": "markdown",
   "id": "8919141d",
   "metadata": {},
   "source": [
    "Generate a list of unique site indices that will remain attached to the particles throughout their evolution. We specify that the sites represent spin-1/2 (i.e., two-level) states for each particle."
   ]
  },
  {
   "cell_type": "code",
   "execution_count": null,
   "id": "f972b297",
   "metadata": {},
   "outputs": [],
   "source": [
    "s = siteinds(\"S=1/2\", params.N_sites; conserve_qns=false) "
   ]
  },
  {
   "cell_type": "markdown",
   "id": "d7656686",
   "metadata": {},
   "source": [
    "Set up the initial quantum state. The first half of the particles are \"spin up\" (i.e., electron neutrinos, correpsonding to the right-moving states). The second half are \"spin down\" (i.e., muon neutrinos, corresponding to the left-moving states)."
   ]
  },
  {
   "cell_type": "code",
   "execution_count": null,
   "id": "4948ea64",
   "metadata": {},
   "outputs": [],
   "source": [
    "ψ = productMPS(s, n -> n <= params.N_sites/2 ? \"Up\" : \"Dn\")"
   ]
  },
  {
   "cell_type": "markdown",
   "id": "c80f2e08",
   "metadata": {},
   "source": [
    "Bundle all of the state variables into a single mutable object that will be modified during the evolution loop."
   ]
  },
  {
   "cell_type": "code",
   "execution_count": null,
   "id": "fff8ead3",
   "metadata": {},
   "outputs": [],
   "source": [
    "state = CCNO.SimulationState(ψ=ψ, s=s, p=p, energy_sign = energy_sign, N=N, xyz = hcat(x,y,z))"
   ]
  },
  {
   "cell_type": "markdown",
   "id": "1576c905",
   "metadata": {},
   "source": [
    "Perturb the initial conditions slightly with a wavelength equal to the domain size in order to tease out plasma-like instabilities."
   ]
  },
  {
   "cell_type": "code",
   "execution_count": null,
   "id": "19ec2631",
   "metadata": {},
   "outputs": [],
   "source": [
    "k = 2*pi / (L)\n",
    "CCNO.perturb(params, state,k, params.theta_nu)"
   ]
  },
  {
   "cell_type": "markdown",
   "id": "c2a7e17d",
   "metadata": {},
   "source": [
    "Remove old data files and evolve the quantum state. Caution: the first two lines delete data - be careful about preserving data you want to keep."
   ]
  },
  {
   "cell_type": "code",
   "execution_count": null,
   "id": "a90e36d8",
   "metadata": {},
   "outputs": [],
   "source": [
    "rm(\"checkpoints\", recursive=true, force=true)\n",
    "rm(\"datafiles\", recursive=true, force=true)\n",
    "CCNO.evolve(params, state)"
   ]
  },
  {
   "cell_type": "markdown",
   "id": "240616d4",
   "metadata": {},
   "source": [
    "# Data Analysis #\n",
    "Read the output data files and store in local arrays"
   ]
  },
  {
   "cell_type": "code",
   "execution_count": null,
   "id": "9e2cf730",
   "metadata": {},
   "outputs": [],
   "source": [
    "t_Sz_tot = readdlm(joinpath(params.datadir, \"t_<Sz>.dat\"))\n",
    "t_Sy_tot = readdlm(joinpath(params.datadir, \"t_<Sy>.dat\"))\n",
    "t_Sx_tot = readdlm(joinpath(params.datadir, \"t_<Sx>.dat\"))\n",
    "t_xsiteval = readdlm(joinpath(params.datadir, \"t_xsiteval.dat\"))\n",
    "t_pxsiteval = readdlm(joinpath(params.datadir, \"t_pxsiteval.dat\"))\n",
    "t_ρₑₑ_tot = readdlm(joinpath(params.datadir, \"t_ρₑₑ.dat\"))\n",
    "t_ρ_μμ_tot = readdlm(joinpath(params.datadir, \"t_ρ_μμ.dat\"))\n",
    "t_ρₑμ_tot = readdlm(joinpath(params.datadir, \"t_ρₑμ.dat\"))"
   ]
  },
  {
   "cell_type": "markdown",
   "id": "f46d9902",
   "metadata": {},
   "source": [
    "Put the data into usable arrays. The first column of every file contains the time. Make an array with the time, and an array with all of the other useful values."
   ]
  },
  {
   "cell_type": "code",
   "execution_count": null,
   "id": "22bfbd9a",
   "metadata": {},
   "outputs": [],
   "source": [
    "t_array = t_Sz_tot[:, 1]  \n",
    "Sz_array =  t_Sz_tot[:, 2:N_sites_eachflavor+1]\n",
    "Sy_array = t_Sy_tot[:, 2:N_sites_eachflavor+1]  \n",
    "Sx_array= t_Sx_tot[:, 2:N_sites_eachflavor+1] \n",
    "ρₑₑ_array = t_ρₑₑ_tot[:, 2:N_sites_eachflavor+1] \n",
    "ρ_μμ_array =t_ρ_μμ_tot[:, 2:N_sites_eachflavor+1]  \n",
    "ρₑμ_array = t_ρₑμ_tot[:, 2:N_sites_eachflavor+1]"
   ]
  },
  {
   "cell_type": "markdown",
   "id": "70a39c87",
   "metadata": {},
   "source": [
    "Make some preliminary plots. First, show the evolution of the off-diagonal elements averaged over the domain."
   ]
  },
  {
   "cell_type": "code",
   "execution_count": null,
   "id": "c0ec1a98",
   "metadata": {},
   "outputs": [],
   "source": [
    "using Plots\n",
    "\n",
    "ρₑμ_array_domain_avg = mean(abs.(ρₑμ_array), dims=2)\n",
    "plot(t_array, ρₑμ_array_domain_avg, xlabel=\"t (s)\", ylabel=\"|ρₑμ|\", yscale=:log10, label=\"\")"
   ]
  }
 ],
 "metadata": {
  "kernelspec": {
   "display_name": "Julia 1.11.5",
   "language": "julia",
   "name": "julia-1.11"
  },
  "language_info": {
   "file_extension": ".jl",
   "mimetype": "application/julia",
   "name": "julia",
   "version": "1.11.5"
  }
 },
 "nbformat": 4,
 "nbformat_minor": 5
}
